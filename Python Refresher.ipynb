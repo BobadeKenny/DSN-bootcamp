{
 "cells": [
  {
   "cell_type": "markdown",
   "metadata": {},
   "source": [
    "# OVERVIEW\n",
    "In this lesson, you'll learn \n",
    "- The Python Syntax\n",
    "- Data Operators\n",
    "- Data Types\n",
    "- Data Structures\n",
    "- Flow Control Statements\n",
    "- Functions\n",
    "- Intro To Pandas\n",
    "\n",
    "I'm going to assume we all have our python environments set up so let's dive straight into the course."
   ]
  },
  {
   "cell_type": "markdown",
   "metadata": {},
   "source": [
    "## The Python Syntax\n",
    "The Python syntax is the set of rules that defines how a python program will be written and interpreted. The Python syntax is simple and consistent and was designed to be highly readable.\n",
    "In this section, we are going to discuss\n",
    "- Naming Conventions\n",
    "- Indentation\n",
    "- Comments"
   ]
  },
  {
   "cell_type": "markdown",
   "metadata": {},
   "source": [
    "#### Naming Conventions\n",
    "Naming conventions are rules governing the naming of identifiers in programming languages. Identifier are names given to functions, variables, classes, e.t.c.\n",
    "Below are a few naming conventions in Python:\n",
    "- Identifiers must start with either upper or lower case letters or an underscore (_).\n",
    "- Characters such as !, &, %, e.t.c are not allowed within identifiers.\n",
    "- Identifiers can contain digits as long as it doesn't start with digits.\n",
    "- Python is a case sensitive language. For example; results and Results are two different identifiers in Python.\n",
    "- Python [keywords](https://www.w3schools.com/python/python_ref_keywords.asp) cannot be used as identifiers."
   ]
  },
  {
   "cell_type": "markdown",
   "metadata": {},
   "source": [
    "#### Indentation\n",
    "Indentation is very important in Python as Python uses indentation to indicate code blocks.\n",
    "For example:"
   ]
  },
  {
   "cell_type": "code",
   "execution_count": 1,
   "metadata": {},
   "outputs": [
    {
     "name": "stdout",
     "output_type": "stream",
     "text": [
      "I am great at maths!\n"
     ]
    }
   ],
   "source": [
    "if (2+2 == 4):\n",
    "    print(\"I am great at maths!\")"
   ]
  },
  {
   "cell_type": "markdown",
   "metadata": {},
   "source": [
    "Let's try to run the same code without indentation."
   ]
  },
  {
   "cell_type": "code",
   "execution_count": 2,
   "metadata": {},
   "outputs": [
    {
     "ename": "IndentationError",
     "evalue": "expected an indented block (<ipython-input-2-9044a4809a8d>, line 2)",
     "output_type": "error",
     "traceback": [
      "\u001b[1;36m  File \u001b[1;32m\"<ipython-input-2-9044a4809a8d>\"\u001b[1;36m, line \u001b[1;32m2\u001b[0m\n\u001b[1;33m    print(\"I am great at maths!\")\u001b[0m\n\u001b[1;37m        ^\u001b[0m\n\u001b[1;31mIndentationError\u001b[0m\u001b[1;31m:\u001b[0m expected an indented block\n"
     ]
    }
   ],
   "source": [
    "if (2+2 == 4):\n",
    "print(\"I am great at maths!\")"
   ]
  },
  {
   "cell_type": "markdown",
   "metadata": {},
   "source": [
    "And we encountered an error. While most languages only use indentation for easy readability, Python code will not run if there's no indentation in the right places."
   ]
  },
  {
   "cell_type": "markdown",
   "metadata": {},
   "source": [
    "#### Comments\n",
    "There are two types of comments in Python; Single-line comments and multi-line comments.\n"
   ]
  },
  {
   "cell_type": "markdown",
   "metadata": {},
   "source": [
    "Single-line comments can only occupy one line and are declared with '#'"
   ]
  },
  {
   "cell_type": "code",
   "execution_count": 3,
   "metadata": {},
   "outputs": [],
   "source": [
    "# This is a single-line comment"
   ]
  },
  {
   "cell_type": "markdown",
   "metadata": {},
   "source": [
    "Multi-line comments can occupy several lines and are declared with triple quotes"
   ]
  },
  {
   "cell_type": "code",
   "execution_count": 5,
   "metadata": {},
   "outputs": [
    {
     "data": {
      "text/plain": [
       "'\\nThis is a\\nmulti-line\\ncomment\\n'"
      ]
     },
     "execution_count": 5,
     "metadata": {},
     "output_type": "execute_result"
    }
   ],
   "source": [
    "'''\n",
    "This is a\n",
    "multi-line\n",
    "comment\n",
    "'''"
   ]
  },
  {
   "cell_type": "markdown",
   "metadata": {},
   "source": [
    "## Data Operators\n",
    "Operators are used to perform operations on variables. Python has the following groups of operations;\n",
    "- Arithmetic operators"
   ]
  },
  {
   "cell_type": "markdown",
   "metadata": {},
   "source": [
    "| Operator | Name |\n",
    "| :-: | :-: |\n",
    "| + | Addition |\n",
    "| - | Subtraction |"
   ]
  },
  {
   "cell_type": "code",
   "execution_count": null,
   "metadata": {},
   "outputs": [],
   "source": []
  }
 ],
 "metadata": {
  "kernelspec": {
   "display_name": "Python 3",
   "language": "python",
   "name": "python3"
  },
  "language_info": {
   "codemirror_mode": {
    "name": "ipython",
    "version": 3
   },
   "file_extension": ".py",
   "mimetype": "text/x-python",
   "name": "python",
   "nbconvert_exporter": "python",
   "pygments_lexer": "ipython3",
   "version": "3.7.3"
  }
 },
 "nbformat": 4,
 "nbformat_minor": 2
}
